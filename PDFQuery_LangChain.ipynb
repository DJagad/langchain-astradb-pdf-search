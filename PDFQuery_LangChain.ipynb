{
 "cells": [
  {
   "cell_type": "markdown",
   "metadata": {},
   "source": [
    "# Quickstart: Querying PDF With AstraDB and Langchain"
   ]
  },
  {
   "cell_type": "markdown",
   "metadata": {},
   "source": [
    "### A question-answering demo using Astra DB and LangChain, powered by Vector Search"
   ]
  },
  {
   "cell_type": "markdown",
   "metadata": {},
   "source": [
    "#### Prerequisties\n",
    "\n",
    "##### You need a Serverless Cansandra with vector Searchg databsae on [AstraDB](https://astra.datastax.com) to run this demo. As outlined in more detail [here](), you should get a DB Token with role Database Administrator and copu your Database ID: these connection parameters are needed momentarily.\n",
    "\n",
    "##### You alson need a [OPENAI_API_Key]() for this demo to work.\n",
    "\n",
    "#### What you will do:\n",
    "##### * Setup: Import dependencies, provode secrets, create the Langchain Vector Store\n",
    "##### * Run a Question-Answering Loop retrieveing the relevant headlines and having a LLM construct the answer"
   ]
  },
  {
   "cell_type": "markdown",
   "metadata": {},
   "source": [
    "#####  Install the dependencies:"
   ]
  },
  {
   "cell_type": "code",
   "execution_count": null,
   "metadata": {},
   "outputs": [],
   "source": [
    "!pip install -q cassio datasets langchain openai tiktoken"
   ]
  },
  {
   "cell_type": "markdown",
   "metadata": {},
   "source": [
    "##### Import the packages that will need to run the demo"
   ]
  },
  {
   "cell_type": "code",
   "execution_count": null,
   "metadata": {},
   "outputs": [
    {
     "ename": "",
     "evalue": "",
     "output_type": "error",
     "traceback": [
      "\u001b[1;31mRunning cells with '/Users/spartan/Desktop/Projects/PDFQuery_With_Langchain_AstraDB/langchain_casandra/bin/python' requires the ipykernel package.\n",
      "\u001b[1;31mRun the following command to install 'ipykernel' into the Python environment. \n",
      "\u001b[1;31mCommand: 'conda install -p /Users/spartan/Desktop/Projects/PDFQuery_With_Langchain_AstraDB/langchain_casandra ipykernel --update-deps --force-reinstall'"
     ]
    }
   ],
   "source": [
    "# Langchain components to used\n",
    "from langchain.vectorstores.cassandra import Cassandra\n",
    "from langchain.indexes.vectorstore import VectorStoreIndexWrapper\n",
    "from langchain.llms import OpenAI\n",
    "from langchain.embeddings import OpenAIEmbeddings"
   ]
  },
  {
   "cell_type": "code",
   "execution_count": null,
   "metadata": {},
   "outputs": [
    {
     "ename": "",
     "evalue": "",
     "output_type": "error",
     "traceback": [
      "\u001b[1;31mRunning cells with '/Users/spartan/Desktop/Projects/PDFQuery_With_Langchain_AstraDB/langchain_casandra/bin/python' requires the ipykernel package.\n",
      "\u001b[1;31mRun the following command to install 'ipykernel' into the Python environment. \n",
      "\u001b[1;31mCommand: 'conda install -p /Users/spartan/Desktop/Projects/PDFQuery_With_Langchain_AstraDB/langchain_casandra ipykernel --update-deps --force-reinstall'"
     ]
    }
   ],
   "source": []
  },
  {
   "cell_type": "code",
   "execution_count": null,
   "metadata": {},
   "outputs": [],
   "source": []
  }
 ],
 "metadata": {
  "kernelspec": {
   "display_name": "Python 3",
   "language": "python",
   "name": "python3"
  },
  "language_info": {
   "name": "python",
   "version": "3.9.18"
  }
 },
 "nbformat": 4,
 "nbformat_minor": 2
}
